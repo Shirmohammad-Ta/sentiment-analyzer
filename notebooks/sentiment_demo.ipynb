{
 "cells": [
  {
   "cell_type": "markdown",
   "id": "498b81db",
   "metadata": {},
   "source": [
    "# 📘 Sentiment Analysis Demo\n",
    "این نوت‌بوک نحوه بارگذاری، پیش‌پردازش و آموزش مدل تحلیل احساسات را نشان می‌دهد."
   ]
  },
  {
   "cell_type": "code",
   "execution_count": null,
   "id": "4c3bb361",
   "metadata": {},
   "outputs": [],
   "source": [
    "# نصب بسته‌های لازم\n",
    "!pip install pandas scikit-learn nltk joblib seaborn matplotlib\n"
   ]
  },
  {
   "cell_type": "code",
   "execution_count": null,
   "id": "64c353f4",
   "metadata": {},
   "outputs": [],
   "source": [
    "# ایمپورت کتابخانه‌ها\n",
    "import pandas as pd\n",
    "import nltk\n",
    "import joblib\n",
    "from sklearn.pipeline import Pipeline\n",
    "from sklearn.metrics import classification_report, confusion_matrix\n",
    "from sklearn.feature_extraction.text import TfidfVectorizer\n",
    "from sklearn.linear_model import LogisticRegression\n",
    "import seaborn as sns\n",
    "import matplotlib.pyplot as plt\n",
    "\n",
    "nltk.download('stopwords')\n",
    "nltk.download('wordnet')\n"
   ]
  },
  {
   "cell_type": "code",
   "execution_count": null,
   "id": "78cf9596",
   "metadata": {},
   "outputs": [],
   "source": [
    "# داده نمونه\n",
    "data = {\n",
    "    \"review\": [\n",
    "        \"I absolutely loved this product! It was amazing and exceeded my expectations.\",\n",
    "        \"Terrible experience. The item broke after two days.\",\n",
    "        \"It's okay, not great but not bad either.\",\n",
    "        \"Best purchase I've ever made! Highly recommended.\",\n",
    "        \"Worst service ever. I want my money back!\",\n",
    "    ],\n",
    "    \"label\": [1, 0, 1, 1, 0]\n",
    "}\n",
    "df = pd.DataFrame(data)\n",
    "df.head()\n"
   ]
  },
  {
   "cell_type": "code",
   "execution_count": null,
   "id": "f8ceff73",
   "metadata": {},
   "outputs": [],
   "source": [
    "# پاک‌سازی متن\n",
    "import re\n",
    "from nltk.corpus import stopwords\n",
    "from nltk.stem import WordNetLemmatizer\n",
    "\n",
    "stop_words = set(stopwords.words('english'))\n",
    "lemmatizer = WordNetLemmatizer()\n",
    "\n",
    "def clean_text(text):\n",
    "    text = re.sub(r\"[^a-zA-Z\\s]\", \"\", text.lower())\n",
    "    tokens = text.split()\n",
    "    tokens = [lemmatizer.lemmatize(w) for w in tokens if w not in stop_words]\n",
    "    return \" \".join(tokens)\n",
    "\n",
    "df[\"cleaned\"] = df[\"review\"].apply(clean_text)\n",
    "df.head()\n"
   ]
  },
  {
   "cell_type": "code",
   "execution_count": null,
   "id": "507b0f6b",
   "metadata": {},
   "outputs": [],
   "source": [
    "# آموزش مدل\n",
    "X = df[\"cleaned\"]\n",
    "y = df[\"label\"]\n",
    "\n",
    "model = Pipeline([\n",
    "    ('vectorizer', TfidfVectorizer(max_features=5000)),\n",
    "    ('classifier', LogisticRegression())\n",
    "])\n",
    "\n",
    "model.fit(X, y)\n",
    "y_pred = model.predict(X)\n"
   ]
  },
  {
   "cell_type": "code",
   "execution_count": null,
   "id": "fa5cbcab",
   "metadata": {},
   "outputs": [],
   "source": [
    "# گزارش و ارزیابی\n",
    "print(classification_report(y, y_pred))\n",
    "sns.heatmap(confusion_matrix(y, y_pred), annot=True, cmap=\"Blues\", fmt=\"d\")\n",
    "plt.xlabel(\"Predicted\")\n",
    "plt.ylabel(\"True\")\n",
    "plt.title(\"Confusion Matrix\")\n",
    "plt.show()\n"
   ]
  },
  {
   "cell_type": "code",
   "execution_count": null,
   "id": "f1e8710b",
   "metadata": {},
   "outputs": [],
   "source": [
    "# ذخیره مدل\n",
    "joblib.dump(model, \"sentiment_model.pkl\")\n"
   ]
  }
 ],
 "metadata": {},
 "nbformat": 4,
 "nbformat_minor": 5
}
